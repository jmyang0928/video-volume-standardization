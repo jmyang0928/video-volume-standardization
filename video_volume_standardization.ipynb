{
 "cells": [
  {
   "cell_type": "code",
   "execution_count": 1,
   "metadata": {},
   "outputs": [],
   "source": [
    "# Must install ffmpeg first"
   ]
  },
  {
   "cell_type": "code",
   "execution_count": 2,
   "metadata": {},
   "outputs": [],
   "source": [
    "# !pip install moviepy pandas"
   ]
  },
  {
   "cell_type": "code",
   "execution_count": 7,
   "metadata": {},
   "outputs": [],
   "source": [
    "import numpy as np\n",
    "from moviepy.editor import VideoFileClip, concatenate\n",
    "import sys\n",
    "from os import listdir, path"
   ]
  },
  {
   "cell_type": "code",
   "execution_count": 15,
   "metadata": {},
   "outputs": [],
   "source": [
    "standard_volume = 0.1\n",
    "volume_setting = \"\""
   ]
  },
  {
   "cell_type": "code",
   "execution_count": 13,
   "metadata": {},
   "outputs": [],
   "source": [
    "dir = \"queue\"\n",
    "old_file_name_list = []\n",
    "\n",
    "if len(sys.argv) == 1:\n",
    "    # If there is only one input parameter, the default is to read all video files in the dir folder.\n",
    "    old_file_name_list = listdir(dir)\n",
    "    old_file_name_list = [path.join(dir, file) for file in old_file_name_list]\n",
    "    old_file_name_list = [file for file in old_file_name_list if path.isfile(file)]\n",
    "elif len(sys.argv) == 2:\n",
    "    # If there are two input parameters, it reads the video files of the second parameter.\n",
    "    old_file_name_list = [sys.argv[1]]\n",
    "elif len(sys.argv) == 3:\n",
    "    # If there are three input parameters, it reads the video files of the second parameter and uses the third parameter as the volume adjustment factor.\n",
    "    old_file_name_list = [sys.argv[1]]\n",
    "    volume_setting = sys.argv[2]\n",
    "    standard_volume *= (float)(sys.argv[2])\n"
   ]
  },
  {
   "cell_type": "code",
   "execution_count": 14,
   "metadata": {},
   "outputs": [
    {
     "name": "stdout",
     "output_type": "stream",
     "text": [
      "-> Origin video name: \t\ttest_video_2.mp4\n",
      "-> Origin video volume: \t39.74%\n",
      "Moviepy - Building video test_video_2_x2.mp4.\n",
      "MoviePy - Writing audio in temp-audio.m4a\n"
     ]
    },
    {
     "name": "stderr",
     "output_type": "stream",
     "text": [
      "                                                                      \r"
     ]
    },
    {
     "name": "stdout",
     "output_type": "stream",
     "text": [
      "MoviePy - Done.\n",
      "Moviepy - Writing video test_video_2_x2.mp4\n",
      "\n"
     ]
    },
    {
     "name": "stderr",
     "output_type": "stream",
     "text": [
      "                                                                 \r"
     ]
    },
    {
     "name": "stdout",
     "output_type": "stream",
     "text": [
      "Moviepy - Done !\n",
      "Moviepy - video ready test_video_2_x2.mp4\n",
      "-> New video name: \ttest_video_2_x2.mp4\n",
      "-> New video volume: \t97.47%\n",
      "================================================== [1/1]\n",
      "\n"
     ]
    }
   ],
   "source": [
    "for (old_file_name, cur_idx) in zip(old_file_name_list, list(range(len(old_file_name_list)))):\n",
    "    extension_index = old_file_name.rfind(\".\")\n",
    "    new_file_name = f\"{old_file_name[:extension_index]}_{\"standard\" if volume_setting == \"\" else \"x\"+volume_setting}{old_file_name[extension_index:]}\"\n",
    "\n",
    "    # Check origin video volume\n",
    "    clip = VideoFileClip(old_file_name)\n",
    "    print(f\"-> Origin video name: \\t\\t{clip.filename}\")\n",
    "    \n",
    "    cut = lambda i: clip.audio.subclip(i,i+1).to_soundarray(fps=44100)\n",
    "    volume = lambda array: np.sqrt(((1.0*array)**2).mean())\n",
    "    volumes = [volume(cut(i)) for i in range(0,int(clip.audio.duration-2))] \n",
    "    print(f\"-> Origin video volume: \\t{sum(volumes)/len(volumes)/standard_volume*100:.2f}%\")\n",
    "    print()\n",
    "\n",
    "    # Convert Video\n",
    "    cut = lambda i: clip.audio.subclip(i,i+1).to_soundarray(fps=44100)\n",
    "    volume = lambda array: np.sqrt(((1.0*array)**2).mean())\n",
    "    volumes = [volume(cut(i)) for i in range(0,int(clip.audio.duration-2))] \n",
    "    cur_volume = sum(volumes)/len(volumes)\n",
    "\n",
    "    new_audio = clip.audio.volumex(standard_volume/cur_volume)\n",
    "    output = clip.set_audio(new_audio)\n",
    "    output.write_videofile(new_file_name,temp_audiofile=\"temp-audio.m4a\", remove_temp=True, codec=\"h264_nvenc\", audio_codec=\"aac\")\n",
    "    print()\n",
    "\n",
    "    # Check new video volume\n",
    "    clip = VideoFileClip(new_file_name)\n",
    "    print(f\"-> New video name: \\t\\t{clip.filename}\")\n",
    "    cut = lambda i: clip.audio.subclip(i,i+1).to_soundarray(fps=44100)\n",
    "    volume = lambda array: np.sqrt(((1.0*array)**2).mean())\n",
    "    volumes = [volume(cut(i)) for i in range(0,int(clip.audio.duration-2))] \n",
    "    print(f\"-> New video volume: \\t\\t{sum(volumes)/len(volumes)/standard_volume*100:.2f}%\")\n",
    "\n",
    "    print(f\"{\"=\"*50} [{cur_idx+1}/{len(old_file_name_list)}]\\n\")"
   ]
  },
  {
   "cell_type": "code",
   "execution_count": null,
   "metadata": {},
   "outputs": [],
   "source": [
    "# !jupyter nbconvert --to python video_volume_standardization.ipynb"
   ]
  }
 ],
 "metadata": {
  "kernelspec": {
   "display_name": ".venv",
   "language": "python",
   "name": "python3"
  },
  "language_info": {
   "codemirror_mode": {
    "name": "ipython",
    "version": 3
   },
   "file_extension": ".py",
   "mimetype": "text/x-python",
   "name": "python",
   "nbconvert_exporter": "python",
   "pygments_lexer": "ipython3",
   "version": "3.12.2"
  }
 },
 "nbformat": 4,
 "nbformat_minor": 2
}
